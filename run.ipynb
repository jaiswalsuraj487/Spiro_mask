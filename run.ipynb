{
 "cells": [
  {
   "cell_type": "code",
   "execution_count": 1,
   "metadata": {},
   "outputs": [
    {
     "name": "stdout",
     "output_type": "stream",
     "text": [
      "utils.py loaded\n"
     ]
    }
   ],
   "source": [
    "from utils import * "
   ]
  },
  {
   "attachments": {},
   "cell_type": "markdown",
   "metadata": {},
   "source": [
    "## for relu as activation funtion"
   ]
  },
  {
   "attachments": {},
   "cell_type": "markdown",
   "metadata": {},
   "source": [
    "### Learning y and var"
   ]
  },
  {
   "cell_type": "code",
   "execution_count": 2,
   "metadata": {},
   "outputs": [
    {
     "name": "stdout",
     "output_type": "stream",
     "text": [
      "Epoch [1/500], Train Loss: 4.8063, Val Loss: 3.9391\n",
      "Epoch [100/500], Train Loss: -0.2833, Val Loss: 15.1438\n",
      "Epoch [200/500], Train Loss: -0.6941, Val Loss: 0.1997\n",
      "Epoch [300/500], Train Loss: -0.5084, Val Loss: -0.1482\n",
      "Epoch [400/500], Train Loss: -1.0380, Val Loss: 2.8335\n",
      "Epoch [500/500], Train Loss: -1.6059, Val Loss: 8.3274\n",
      "MAPE test:  5.822160339355468\n"
     ]
    }
   ],
   "source": [
    "output_2_fvc = model_run(file_name = 'FVC', num_epochs= 500, hidden_sizes =  [50,10], output_size = 2)"
   ]
  },
  {
   "cell_type": "code",
   "execution_count": 3,
   "metadata": {},
   "outputs": [
    {
     "data": {
      "text/plain": [
       "(tensor([[3.1577],\n",
       "         [3.0649],\n",
       "         [3.0660],\n",
       "         [3.5160],\n",
       "         [3.3191]], grad_fn=<ReshapeAliasBackward0>),\n",
       " tensor([[0.0206],\n",
       "         [0.0260],\n",
       "         [0.0344],\n",
       "         [0.0166],\n",
       "         [0.0212]], grad_fn=<ExpBackward0>))"
      ]
     },
     "execution_count": 3,
     "metadata": {},
     "output_type": "execute_result"
    }
   ],
   "source": [
    "output_2_fvc "
   ]
  },
  {
   "cell_type": "code",
   "execution_count": 5,
   "metadata": {},
   "outputs": [
    {
     "name": "stdout",
     "output_type": "stream",
     "text": [
      "Epoch [1/500], Train Loss: 3.6416, Val Loss: 2.8251\n",
      "Epoch [100/500], Train Loss: -0.0989, Val Loss: 0.1270\n",
      "Epoch [200/500], Train Loss: -0.2612, Val Loss: 0.0592\n",
      "Epoch [300/500], Train Loss: -0.3856, Val Loss: 0.0711\n",
      "Epoch [400/500], Train Loss: -0.1991, Val Loss: -0.0319\n",
      "Epoch [500/500], Train Loss: -0.1635, Val Loss: 0.3311\n",
      "MAPE test:  8.743933010101319\n"
     ]
    }
   ],
   "source": [
    "output_2_fev1 = model_run(file_name = 'FEV1', num_epochs= 500, hidden_sizes =  [50,10], output_size = 2)"
   ]
  },
  {
   "cell_type": "code",
   "execution_count": 6,
   "metadata": {},
   "outputs": [
    {
     "data": {
      "text/plain": [
       "(tensor([[2.6659],\n",
       "         [2.7566],\n",
       "         [3.1802],\n",
       "         [3.3837],\n",
       "         [3.2814]], grad_fn=<ReshapeAliasBackward0>),\n",
       " tensor([[0.0691],\n",
       "         [0.0550],\n",
       "         [0.0106],\n",
       "         [0.0042],\n",
       "         [0.0175]], grad_fn=<ExpBackward0>))"
      ]
     },
     "execution_count": 6,
     "metadata": {},
     "output_type": "execute_result"
    }
   ],
   "source": [
    "output_2_fev1"
   ]
  },
  {
   "attachments": {},
   "cell_type": "markdown",
   "metadata": {},
   "source": [
    "### Learning y"
   ]
  },
  {
   "cell_type": "code",
   "execution_count": 7,
   "metadata": {},
   "outputs": [
    {
     "name": "stdout",
     "output_type": "stream",
     "text": [
      "Epoch [1/500], Train Loss: 8.3993, Val Loss: 6.4152\n",
      "Epoch [100/500], Train Loss: 0.0608, Val Loss: 0.1169\n",
      "Epoch [200/500], Train Loss: 0.0456, Val Loss: 0.0713\n",
      "Epoch [300/500], Train Loss: 0.0639, Val Loss: 0.1187\n",
      "Epoch [400/500], Train Loss: 0.0296, Val Loss: 0.0501\n",
      "Epoch [500/500], Train Loss: 0.0121, Val Loss: 0.0578\n",
      "MAPE test:  7.843387603759766\n"
     ]
    }
   ],
   "source": [
    "output_1_fvc = model_run(file_name = 'FVC', num_epochs= 500, hidden_sizes =  [50,10], output_size = 1)"
   ]
  },
  {
   "cell_type": "code",
   "execution_count": 8,
   "metadata": {},
   "outputs": [
    {
     "data": {
      "text/plain": [
       "tensor([[2.8671],\n",
       "        [3.2058],\n",
       "        [3.3606],\n",
       "        [3.3911],\n",
       "        [3.2314]], grad_fn=<ReshapeAliasBackward0>)"
      ]
     },
     "execution_count": 8,
     "metadata": {},
     "output_type": "execute_result"
    }
   ],
   "source": [
    "output_1_fvc"
   ]
  },
  {
   "cell_type": "code",
   "execution_count": 9,
   "metadata": {},
   "outputs": [
    {
     "name": "stdout",
     "output_type": "stream",
     "text": [
      "Epoch [1/500], Train Loss: 5.1707, Val Loss: 3.9330\n",
      "Epoch [100/500], Train Loss: 0.0143, Val Loss: 0.0693\n",
      "Epoch [200/500], Train Loss: 0.0115, Val Loss: 0.1103\n",
      "Epoch [300/500], Train Loss: 0.0049, Val Loss: 0.1963\n",
      "Epoch [400/500], Train Loss: 0.0038, Val Loss: 0.1802\n",
      "Epoch [500/500], Train Loss: 0.0031, Val Loss: 0.1809\n",
      "MAPE test:  7.96909236907959\n"
     ]
    }
   ],
   "source": [
    "output_1_fev1 = model_run(file_name = 'FEV1', num_epochs= 500, hidden_sizes =  [50,10], output_size = 1)"
   ]
  },
  {
   "cell_type": "code",
   "execution_count": 10,
   "metadata": {},
   "outputs": [
    {
     "data": {
      "text/plain": [
       "tensor([[2.6579],\n",
       "        [2.4321],\n",
       "        [3.0536],\n",
       "        [3.3141],\n",
       "        [3.1089]], grad_fn=<ReshapeAliasBackward0>)"
      ]
     },
     "execution_count": 10,
     "metadata": {},
     "output_type": "execute_result"
    }
   ],
   "source": [
    "output_1_fev1"
   ]
  },
  {
   "attachments": {},
   "cell_type": "markdown",
   "metadata": {},
   "source": [
    "## for sin as activation function"
   ]
  },
  {
   "cell_type": "markdown",
   "metadata": {},
   "source": [
    "### Learning y and var"
   ]
  },
  {
   "cell_type": "code",
   "execution_count": 2,
   "metadata": {},
   "outputs": [
    {
     "name": "stdout",
     "output_type": "stream",
     "text": [
      "Epoch [1/500], Train Loss: 3.8592, Val Loss: 3.1031\n",
      "Epoch [100/500], Train Loss: 0.0689, Val Loss: 0.3457\n",
      "Epoch [200/500], Train Loss: -0.2123, Val Loss: 1.1997\n",
      "Epoch [300/500], Train Loss: -0.1979, Val Loss: 2.1635\n",
      "Epoch [400/500], Train Loss: -0.4579, Val Loss: 0.4226\n",
      "Epoch [500/500], Train Loss: -0.3834, Val Loss: 1.5070\n",
      "MAPE test:  4.2397887229919435\n"
     ]
    }
   ],
   "source": [
    "output_2_fvc = model_run(file_name = 'FVC', num_epochs= 500, hidden_sizes =  [50,10], output_size = 2, activation='sin')"
   ]
  },
  {
   "cell_type": "code",
   "execution_count": 3,
   "metadata": {},
   "outputs": [
    {
     "data": {
      "text/plain": [
       "(tensor([[3.1020],\n",
       "         [3.1608],\n",
       "         [3.1676],\n",
       "         [3.2778],\n",
       "         [3.2552]], grad_fn=<ReshapeAliasBackward0>),\n",
       " tensor([[0.0316],\n",
       "         [0.0114],\n",
       "         [0.0374],\n",
       "         [0.0382],\n",
       "         [0.0197]], grad_fn=<ExpBackward0>))"
      ]
     },
     "execution_count": 3,
     "metadata": {},
     "output_type": "execute_result"
    }
   ],
   "source": [
    "output_2_fvc "
   ]
  },
  {
   "cell_type": "code",
   "execution_count": 4,
   "metadata": {},
   "outputs": [
    {
     "name": "stdout",
     "output_type": "stream",
     "text": [
      "Epoch [1/500], Train Loss: 3.0828, Val Loss: 1.8302\n",
      "Epoch [100/500], Train Loss: -0.4349, Val Loss: 1.1484\n",
      "Epoch [200/500], Train Loss: -0.7407, Val Loss: 1.0484\n",
      "Epoch [300/500], Train Loss: -0.4894, Val Loss: 1.1803\n",
      "Epoch [400/500], Train Loss: -0.5895, Val Loss: 0.5052\n",
      "Epoch [500/500], Train Loss: -0.3552, Val Loss: 0.2533\n",
      "MAPE test:  5.187931060791016\n"
     ]
    }
   ],
   "source": [
    "output_2_fev1 = model_run(file_name = 'FEV1', num_epochs= 500, hidden_sizes =  [50,10], output_size = 2,activation='sin')"
   ]
  },
  {
   "cell_type": "code",
   "execution_count": 5,
   "metadata": {},
   "outputs": [
    {
     "data": {
      "text/plain": [
       "(tensor([[2.5747],\n",
       "         [2.7170],\n",
       "         [3.1556],\n",
       "         [3.0456],\n",
       "         [3.0695]], grad_fn=<ReshapeAliasBackward0>),\n",
       " tensor([[0.3393],\n",
       "         [0.0692],\n",
       "         [0.0408],\n",
       "         [0.1139],\n",
       "         [0.0175]], grad_fn=<ExpBackward0>))"
      ]
     },
     "execution_count": 5,
     "metadata": {},
     "output_type": "execute_result"
    }
   ],
   "source": [
    "output_2_fev1"
   ]
  },
  {
   "cell_type": "markdown",
   "metadata": {},
   "source": [
    "### Learning y"
   ]
  },
  {
   "cell_type": "code",
   "execution_count": 7,
   "metadata": {},
   "outputs": [
    {
     "name": "stdout",
     "output_type": "stream",
     "text": [
      "Epoch [1/500], Train Loss: 6.2383, Val Loss: 6.5401\n",
      "Epoch [100/500], Train Loss: 0.0696, Val Loss: 0.0360\n",
      "Epoch [200/500], Train Loss: 0.0525, Val Loss: 0.2892\n",
      "Epoch [300/500], Train Loss: 0.0281, Val Loss: 0.3378\n",
      "Epoch [400/500], Train Loss: 0.0808, Val Loss: 0.3892\n",
      "Epoch [500/500], Train Loss: 0.0041, Val Loss: 1.4983\n",
      "MAPE test:  9.28577823638916\n"
     ]
    }
   ],
   "source": [
    "output_1_fvc = model_run(file_name = 'FVC', num_epochs= 500, hidden_sizes =  [50,10], output_size = 1, activation='sin')"
   ]
  },
  {
   "cell_type": "code",
   "execution_count": 8,
   "metadata": {},
   "outputs": [
    {
     "data": {
      "text/plain": [
       "tensor([[2.7799],\n",
       "        [3.0413],\n",
       "        [3.4141],\n",
       "        [3.4864],\n",
       "        [3.2463]], grad_fn=<ReshapeAliasBackward0>)"
      ]
     },
     "execution_count": 8,
     "metadata": {},
     "output_type": "execute_result"
    }
   ],
   "source": [
    "output_1_fvc"
   ]
  },
  {
   "cell_type": "code",
   "execution_count": 9,
   "metadata": {},
   "outputs": [
    {
     "name": "stdout",
     "output_type": "stream",
     "text": [
      "Epoch [1/500], Train Loss: 3.0428, Val Loss: 0.5114\n",
      "Epoch [100/500], Train Loss: 0.0840, Val Loss: 0.0734\n",
      "Epoch [200/500], Train Loss: 0.0020, Val Loss: 0.0914\n",
      "Epoch [300/500], Train Loss: 0.0124, Val Loss: 0.0906\n",
      "Epoch [400/500], Train Loss: 0.0067, Val Loss: 0.0471\n",
      "Epoch [500/500], Train Loss: 0.0223, Val Loss: 0.0605\n",
      "MAPE test:  4.7412032127380375\n"
     ]
    }
   ],
   "source": [
    "output_1_fev1 = model_run(file_name = 'FEV1', num_epochs= 500, hidden_sizes =  [50,10], output_size = 1, activation='sin')"
   ]
  },
  {
   "cell_type": "code",
   "execution_count": 10,
   "metadata": {},
   "outputs": [
    {
     "data": {
      "text/plain": [
       "tensor([[3.1537],\n",
       "        [2.8262],\n",
       "        [2.8953],\n",
       "        [3.0717],\n",
       "        [2.9483]], grad_fn=<ReshapeAliasBackward0>)"
      ]
     },
     "execution_count": 10,
     "metadata": {},
     "output_type": "execute_result"
    }
   ],
   "source": [
    "output_1_fev1"
   ]
  },
  {
   "cell_type": "code",
   "execution_count": null,
   "metadata": {},
   "outputs": [],
   "source": []
  },
  {
   "cell_type": "markdown",
   "metadata": {},
   "source": [
    "## Implementing Regressor models with LOOCV"
   ]
  },
  {
   "cell_type": "code",
   "execution_count": null,
   "metadata": {},
   "outputs": [
    {
     "name": "stdout",
     "output_type": "stream",
     "text": [
      "for FVC Overall MPE is = 6.048729090522369\n",
      "for FVC Overall MPE is = 6.772241273401555\n",
      "for FVC Overall MPE is = 6.613657490460166\n"
     ]
    }
   ],
   "source": [
    "# for FVC\n",
    "y_pred_rf = model_regressor(file_name= 'FVC') # default is random forest regression\n",
    "y_pred_xgb = model_regressor(file_name= 'FVC', regressor_type='XGB')\n",
    "y_pred_svr = model_regressor(file_name= 'FVC', regressor_type='SVR')"
   ]
  },
  {
   "cell_type": "code",
   "execution_count": null,
   "metadata": {},
   "outputs": [
    {
     "name": "stdout",
     "output_type": "stream",
     "text": [
      "for FEV1 Overall MPE is = 6.216138273184996\n",
      "for FEV1 Overall MPE is = 6.3160158903547226\n",
      "for FEV1 Overall MPE is = 6.80575317785154\n"
     ]
    }
   ],
   "source": [
    "# for FEV1\n",
    "y_pred_rf = model_regressor(file_name= 'FEV1') # default is random forest regression\n",
    "y_pred_xgb = model_regressor(file_name= 'FEV1', regressor_type='XGB')\n",
    "y_pred_svr = model_regressor(file_name= 'FEV1', regressor_type='SVR')"
   ]
  },
  {
   "attachments": {},
   "cell_type": "markdown",
   "metadata": {},
   "source": [
    "### Hyper parameter tuning"
   ]
  },
  {
   "cell_type": "code",
   "execution_count": 22,
   "metadata": {},
   "outputs": [],
   "source": [
    "config = {\n",
    "    \"hidden_size\": tune.choice([[50,10] ,[60,30,5], [75,35,15,5],[128,80,50,30,16]]),\n",
    "    'lr':tune.choice([0.01, 0.001]),\n",
    "    \"num_epochs\": tune.choice([2000])\n",
    "}"
   ]
  },
  {
   "cell_type": "code",
   "execution_count": 2,
   "metadata": {},
   "outputs": [],
   "source": [
    "best_config_fvc_out2 = {'hidden_size': [75, 35, 15, 5], 'lr': 0.001, 'num_epochs': 500}\n",
    "best_config_fev1_out2 = {'hidden_size': [75, 35, 15, 5], 'lr': 0.01, 'num_epochs': 500}\n",
    "best_config_fvc_out1 = {'hidden_size': [60, 30, 5], 'lr': 0.01, 'num_epochs': 500}        \n",
    "best_config_fev1_out1 = {'hidden_size': [128, 80, 50, 30, 16], 'lr': 0.001, 'num_epochs': 500}"
   ]
  },
  {
   "cell_type": "code",
   "execution_count": 16,
   "metadata": {},
   "outputs": [
    {
     "name": "stdout",
     "output_type": "stream",
     "text": [
      "Epoch [1/500], Train Loss: 7.5943, Val Loss: 8.1030\n",
      "Epoch [100/500], Train Loss: -0.0895, Val Loss: 4.3815\n",
      "Epoch [200/500], Train Loss: -0.1199, Val Loss: 6.2287\n",
      "Epoch [300/500], Train Loss: -0.1957, Val Loss: 8.5090\n",
      "Epoch [400/500], Train Loss: -0.1763, Val Loss: 15.6482\n",
      "Epoch [500/500], Train Loss: -0.2335, Val Loss: 14.4548\n",
      "MAPE test:  7.058881950378418\n"
     ]
    }
   ],
   "source": [
    "output_2_fvc = model_run(file_name = 'FVC', num_epochs= best_config_fvc_out2['num_epochs'], hidden_sizes =  best_config_fvc_out2['hidden_size'], output_size = 2, lr = best_config_fvc_out2['lr'])"
   ]
  },
  {
   "cell_type": "code",
   "execution_count": 13,
   "metadata": {},
   "outputs": [
    {
     "name": "stdout",
     "output_type": "stream",
     "text": [
      "Epoch [1/500], Train Loss: 4.1476, Val Loss: 2.6850\n",
      "Epoch [100/500], Train Loss: 0.0832, Val Loss: 0.2637\n",
      "Epoch [200/500], Train Loss: 0.0672, Val Loss: 0.1609\n",
      "Epoch [300/500], Train Loss: -0.0993, Val Loss: 0.2762\n",
      "Epoch [400/500], Train Loss: -0.2233, Val Loss: 0.6341\n",
      "Epoch [500/500], Train Loss: -0.2244, Val Loss: 0.3012\n",
      "MAPE test:  6.837859439849853\n"
     ]
    }
   ],
   "source": [
    "output_2_fev1 = model_run(file_name = 'FEV1', num_epochs= best_config_fev1_out2['num_epochs'], hidden_sizes =  best_config_fev1_out2['hidden_size'], output_size = 2, lr = best_config_fev1_out2['lr'])"
   ]
  },
  {
   "cell_type": "code",
   "execution_count": 17,
   "metadata": {},
   "outputs": [
    {
     "name": "stdout",
     "output_type": "stream",
     "text": [
      "Epoch [1/500], Train Loss: 8.1137, Val Loss: 5.2728\n",
      "Epoch [100/500], Train Loss: 0.0467, Val Loss: 0.0939\n",
      "Epoch [200/500], Train Loss: 0.0421, Val Loss: 0.0812\n",
      "Epoch [300/500], Train Loss: 0.0398, Val Loss: 0.1245\n",
      "Epoch [400/500], Train Loss: 0.0341, Val Loss: 0.1738\n",
      "Epoch [500/500], Train Loss: 0.0169, Val Loss: 0.0595\n",
      "MAPE test:  8.42601375579834\n"
     ]
    }
   ],
   "source": [
    "output_1_fvc = model_run(file_name = 'FVC', num_epochs= best_config_fvc_out1['num_epochs'], hidden_sizes =  best_config_fvc_out1['hidden_size'], output_size = 1, lr = best_config_fvc_out1['lr'])"
   ]
  },
  {
   "cell_type": "code",
   "execution_count": 3,
   "metadata": {},
   "outputs": [
    {
     "name": "stdout",
     "output_type": "stream",
     "text": [
      "Epoch [1/500], Train Loss: 7.6587, Val Loss: 7.7153\n",
      "Epoch [100/500], Train Loss: 0.0245, Val Loss: 0.0559\n",
      "Epoch [200/500], Train Loss: 0.0109, Val Loss: 0.0787\n",
      "Epoch [300/500], Train Loss: 0.0098, Val Loss: 0.0836\n",
      "Epoch [400/500], Train Loss: 0.0083, Val Loss: 0.1129\n",
      "Epoch [500/500], Train Loss: 0.0032, Val Loss: 0.1093\n",
      "MAPE test:  9.896806907653808\n"
     ]
    }
   ],
   "source": [
    "output_1_fev1 = model_run(file_name = 'FEV1', num_epochs= best_config_fev1_out1['num_epochs'], hidden_sizes =  best_config_fev1_out1['hidden_size'], output_size = 1, lr = best_config_fev1_out1['lr'])"
   ]
  },
  {
   "attachments": {},
   "cell_type": "markdown",
   "metadata": {},
   "source": [
    "Summary \n"
   ]
  },
  {
   "cell_type": "code",
   "execution_count": null,
   "metadata": {},
   "outputs": [],
   "source": [
    "# fvc output 2\n",
    "# MAPE test:  5.872068405151367\n",
    "# tune:\n",
    "# MAPE test:  5.188878536224365\n",
    "\n",
    "\n",
    "# fev1 output 2\n",
    "# MAPE test:  10.863091468811035\n",
    "# tune :\n",
    "# MAPE test:  10.298738479614258\n",
    "\n",
    "\n",
    "# fvc output 1\n",
    "# MAPE test:  8.039169311523438\n",
    "# tune:\n",
    "# MAPE test:  5.899529457092285\n",
    "\n",
    "\n",
    "# fev1 output 1\n",
    "# MAPE test:  9.542654991149902\n",
    "# tune:\n",
    "# MAPE test:  9.465457916259766"
   ]
  },
  {
   "cell_type": "code",
   "execution_count": null,
   "metadata": {},
   "outputs": [],
   "source": []
  },
  {
   "cell_type": "code",
   "execution_count": null,
   "metadata": {},
   "outputs": [],
   "source": []
  },
  {
   "cell_type": "code",
   "execution_count": null,
   "metadata": {},
   "outputs": [],
   "source": [
    "analysis_fvc_out1 = raytune_fun(output_size = 1, file_name='FVC') "
   ]
  },
  {
   "cell_type": "code",
   "execution_count": null,
   "metadata": {},
   "outputs": [],
   "source": [
    "best_config_fvc = analysis_fvc_out1.get_best_config(metric=\"val_loss\", mode=\"min\")\n",
    "print(\"Best config:\", best_config_fvc)"
   ]
  },
  {
   "cell_type": "code",
   "execution_count": 4,
   "metadata": {},
   "outputs": [
    {
     "data": {
      "text/html": [
       "<div class=\"trialProgress\">\n",
       "  <h3>Trial Progress</h3>\n",
       "  <table>\n",
       "<thead>\n",
       "<tr><th>Trial name                    </th><th>date               </th><th>done  </th><th>experiment_tag                    </th><th>hostname       </th><th style=\"text-align: right;\">  iterations_since_restore</th><th>node_ip  </th><th style=\"text-align: right;\">  pid</th><th style=\"text-align: right;\">  time_since_restore</th><th style=\"text-align: right;\">  time_this_iter_s</th><th style=\"text-align: right;\">  time_total_s</th><th style=\"text-align: right;\">  timestamp</th><th style=\"text-align: right;\">  training_iteration</th><th>trial_id   </th><th style=\"text-align: right;\">  val_loss</th></tr>\n",
       "</thead>\n",
       "<tbody>\n",
       "<tr><td>train_mlp_output_1_6614e_00000</td><td>2023-05-03_23-30-49</td><td>True  </td><td>0_hidden_size=75_35_15_5,lr=0.0100</td><td>DESKTOP-R44SHTF</td><td style=\"text-align: right;\">                         1</td><td>127.0.0.1</td><td style=\"text-align: right;\">21600</td><td style=\"text-align: right;\">           0.512657 </td><td style=\"text-align: right;\">         0.512657 </td><td style=\"text-align: right;\">     0.512657 </td><td style=\"text-align: right;\"> 1683136849</td><td style=\"text-align: right;\">                   1</td><td>6614e_00000</td><td style=\"text-align: right;\">   11.1893</td></tr>\n",
       "<tr><td>train_mlp_output_1_6614e_00001</td><td>2023-05-03_23-31-02</td><td>True  </td><td>1_hidden_size=75_35_15_5,lr=0.0100</td><td>DESKTOP-R44SHTF</td><td style=\"text-align: right;\">                         1</td><td>127.0.0.1</td><td style=\"text-align: right;\">14260</td><td style=\"text-align: right;\">           0.0180161</td><td style=\"text-align: right;\">         0.0180161</td><td style=\"text-align: right;\">     0.0180161</td><td style=\"text-align: right;\"> 1683136862</td><td style=\"text-align: right;\">                   1</td><td>6614e_00001</td><td style=\"text-align: right;\">   11.1893</td></tr>\n",
       "<tr><td>train_mlp_output_1_6614e_00002</td><td>2023-05-03_23-31-14</td><td>True  </td><td>2_hidden_size=75_35_15_5,lr=0.0100</td><td>DESKTOP-R44SHTF</td><td style=\"text-align: right;\">                         1</td><td>127.0.0.1</td><td style=\"text-align: right;\"> 1924</td><td style=\"text-align: right;\">           0.0215249</td><td style=\"text-align: right;\">         0.0215249</td><td style=\"text-align: right;\">     0.0215249</td><td style=\"text-align: right;\"> 1683136874</td><td style=\"text-align: right;\">                   1</td><td>6614e_00002</td><td style=\"text-align: right;\">   11.1893</td></tr>\n",
       "<tr><td>train_mlp_output_1_6614e_00003</td><td>2023-05-03_23-31-29</td><td>True  </td><td>3_hidden_size=50,lr=0.0100        </td><td>DESKTOP-R44SHTF</td><td style=\"text-align: right;\">                         1</td><td>127.0.0.1</td><td style=\"text-align: right;\"> 3468</td><td style=\"text-align: right;\">           0.0140045</td><td style=\"text-align: right;\">         0.0140045</td><td style=\"text-align: right;\">     0.0140045</td><td style=\"text-align: right;\"> 1683136889</td><td style=\"text-align: right;\">                   1</td><td>6614e_00003</td><td style=\"text-align: right;\">   10.8933</td></tr>\n",
       "<tr><td>train_mlp_output_1_6614e_00004</td><td>2023-05-03_23-31-45</td><td>True  </td><td>4_hidden_size=75_35_15_5,lr=0.0100</td><td>DESKTOP-R44SHTF</td><td style=\"text-align: right;\">                         1</td><td>127.0.0.1</td><td style=\"text-align: right;\">16884</td><td style=\"text-align: right;\">           0.0279961</td><td style=\"text-align: right;\">         0.0279961</td><td style=\"text-align: right;\">     0.0279961</td><td style=\"text-align: right;\"> 1683136905</td><td style=\"text-align: right;\">                   1</td><td>6614e_00004</td><td style=\"text-align: right;\">   11.1893</td></tr>\n",
       "<tr><td>train_mlp_output_1_6614e_00005</td><td>2023-05-03_23-31-59</td><td>True  </td><td>5_hidden_size=50_10,lr=0.0100     </td><td>DESKTOP-R44SHTF</td><td style=\"text-align: right;\">                         1</td><td>127.0.0.1</td><td style=\"text-align: right;\"> 1372</td><td style=\"text-align: right;\">           0.0244927</td><td style=\"text-align: right;\">         0.0244927</td><td style=\"text-align: right;\">     0.0244927</td><td style=\"text-align: right;\"> 1683136919</td><td style=\"text-align: right;\">                   1</td><td>6614e_00005</td><td style=\"text-align: right;\">   10.3862</td></tr>\n",
       "<tr><td>train_mlp_output_1_6614e_00006</td><td>2023-05-03_23-32-16</td><td>True  </td><td>6_hidden_size=60_30_5,lr=0.0100   </td><td>DESKTOP-R44SHTF</td><td style=\"text-align: right;\">                         1</td><td>127.0.0.1</td><td style=\"text-align: right;\"> 7308</td><td style=\"text-align: right;\">           0.0174947</td><td style=\"text-align: right;\">         0.0174947</td><td style=\"text-align: right;\">     0.0174947</td><td style=\"text-align: right;\"> 1683136936</td><td style=\"text-align: right;\">                   1</td><td>6614e_00006</td><td style=\"text-align: right;\">   10.7365</td></tr>\n",
       "<tr><td>train_mlp_output_1_6614e_00007</td><td>2023-05-03_23-32-31</td><td>True  </td><td>7_hidden_size=50_10,lr=0.0100     </td><td>DESKTOP-R44SHTF</td><td style=\"text-align: right;\">                         1</td><td>127.0.0.1</td><td style=\"text-align: right;\">22232</td><td style=\"text-align: right;\">           0.0175302</td><td style=\"text-align: right;\">         0.0175302</td><td style=\"text-align: right;\">     0.0175302</td><td style=\"text-align: right;\"> 1683136951</td><td style=\"text-align: right;\">                   1</td><td>6614e_00007</td><td style=\"text-align: right;\">   10.3862</td></tr>\n",
       "<tr><td>train_mlp_output_1_6614e_00008</td><td>2023-05-03_23-32-32</td><td>True  </td><td>8_hidden_size=50,lr=0.0001        </td><td>DESKTOP-R44SHTF</td><td style=\"text-align: right;\">                         1</td><td>127.0.0.1</td><td style=\"text-align: right;\">21600</td><td style=\"text-align: right;\">           0.0139904</td><td style=\"text-align: right;\">         0.0139904</td><td style=\"text-align: right;\">     0.0139904</td><td style=\"text-align: right;\"> 1683136952</td><td style=\"text-align: right;\">                   1</td><td>6614e_00008</td><td style=\"text-align: right;\">   12.3452</td></tr>\n",
       "<tr><td>train_mlp_output_1_6614e_00009</td><td>2023-05-03_23-32-32</td><td>True  </td><td>9_hidden_size=60_30_5,lr=0.0100   </td><td>DESKTOP-R44SHTF</td><td style=\"text-align: right;\">                         1</td><td>127.0.0.1</td><td style=\"text-align: right;\">14260</td><td style=\"text-align: right;\">           0.0145195</td><td style=\"text-align: right;\">         0.0145195</td><td style=\"text-align: right;\">     0.0145195</td><td style=\"text-align: right;\"> 1683136952</td><td style=\"text-align: right;\">                   1</td><td>6614e_00009</td><td style=\"text-align: right;\">   10.0083</td></tr>\n",
       "</tbody>\n",
       "</table>\n",
       "</div>\n",
       "<style>\n",
       ".trialProgress {\n",
       "  display: flex;\n",
       "  flex-direction: column;\n",
       "  color: var(--jp-ui-font-color1);\n",
       "}\n",
       ".trialProgress h3 {\n",
       "  font-weight: bold;\n",
       "}\n",
       ".trialProgress td {\n",
       "  white-space: nowrap;\n",
       "}\n",
       "</style>\n"
      ],
      "text/plain": [
       "<IPython.core.display.HTML object>"
      ]
     },
     "metadata": {},
     "output_type": "display_data"
    },
    {
     "name": "stderr",
     "output_type": "stream",
     "text": [
      "2023-05-03 23:32:32,985\tINFO tune.py:945 -- Total run time: 119.70 seconds (119.46 seconds for the tuning loop).\n"
     ]
    },
    {
     "name": "stdout",
     "output_type": "stream",
     "text": [
      "== Status ==\n",
      "Current time: 2023-05-03 23:32:32 (running for 00:01:59.55)\n",
      "Using FIFO scheduling algorithm.\n",
      "Logical resource usage: 0/8 CPUs, 0/1 GPUs\n",
      "Result logdir: C:\\Users\\HP\\ray_results\\train_mlp_output_1_2023-05-03_23-30-33\n",
      "Number of trials: 10/10 (10 TERMINATED)\n",
      "+--------------------------------+------------+-----------------+-----------------+--------+--------+------------------+------------+\n",
      "| Trial name                     | status     | loc             | hidden_size     |     lr |   iter |   total time (s) |   val_loss |\n",
      "|--------------------------------+------------+-----------------+-----------------+--------+--------+------------------+------------|\n",
      "| train_mlp_output_1_6614e_00000 | TERMINATED | 127.0.0.1:21600 | [75, 35, 15, 5] | 0.01   |      1 |        0.512657  |    11.1893 |\n",
      "| train_mlp_output_1_6614e_00001 | TERMINATED | 127.0.0.1:14260 | [75, 35, 15, 5] | 0.01   |      1 |        0.0180161 |    11.1893 |\n",
      "| train_mlp_output_1_6614e_00002 | TERMINATED | 127.0.0.1:1924  | [75, 35, 15, 5] | 0.01   |      1 |        0.0215249 |    11.1893 |\n",
      "| train_mlp_output_1_6614e_00003 | TERMINATED | 127.0.0.1:3468  | [50]            | 0.01   |      1 |        0.0140045 |    10.8933 |\n",
      "| train_mlp_output_1_6614e_00004 | TERMINATED | 127.0.0.1:16884 | [75, 35, 15, 5] | 0.01   |      1 |        0.0279961 |    11.1893 |\n",
      "| train_mlp_output_1_6614e_00005 | TERMINATED | 127.0.0.1:1372  | [50, 10]        | 0.01   |      1 |        0.0244927 |    10.3862 |\n",
      "| train_mlp_output_1_6614e_00006 | TERMINATED | 127.0.0.1:7308  | [60, 30, 5]     | 0.01   |      1 |        0.0174947 |    10.7365 |\n",
      "| train_mlp_output_1_6614e_00007 | TERMINATED | 127.0.0.1:22232 | [50, 10]        | 0.01   |      1 |        0.0175302 |    10.3862 |\n",
      "| train_mlp_output_1_6614e_00008 | TERMINATED | 127.0.0.1:21600 | [50]            | 0.0001 |      1 |        0.0139904 |    12.3452 |\n",
      "| train_mlp_output_1_6614e_00009 | TERMINATED | 127.0.0.1:14260 | [60, 30, 5]     | 0.01   |      1 |        0.0145195 |    10.0083 |\n",
      "+--------------------------------+------------+-----------------+-----------------+--------+--------+------------------+------------+\n",
      "\n",
      "\n"
     ]
    }
   ],
   "source": [
    "ray.shutdown()\n",
    "ray.init()\n",
    "analysis_fvc = tune.run( train_mlp_output_1,\n",
    "            config=config,\n",
    "            num_samples=10,\n",
    "            progress_reporter=tune.CLIReporter()\n",
    "        ) "
   ]
  },
  {
   "cell_type": "code",
   "execution_count": 6,
   "metadata": {},
   "outputs": [
    {
     "name": "stdout",
     "output_type": "stream",
     "text": [
      "Best config: {'hidden_size': [60, 30, 5], 'lr': 0.01}\n"
     ]
    }
   ],
   "source": [
    "best_config_fvc = analysis_fvc.get_best_config(metric=\"val_loss\", mode=\"min\")\n",
    "print(\"Best config:\", best_config_fvc)"
   ]
  },
  {
   "cell_type": "code",
   "execution_count": null,
   "metadata": {},
   "outputs": [],
   "source": []
  },
  {
   "cell_type": "code",
   "execution_count": 6,
   "metadata": {},
   "outputs": [],
   "source": [
    "import torch"
   ]
  },
  {
   "cell_type": "code",
   "execution_count": 7,
   "metadata": {},
   "outputs": [
    {
     "name": "stdout",
     "output_type": "stream",
     "text": [
      "tensor([[0.7576, 0.2793, 0.4031]])\n",
      "tensor([[0.7347, 0.0293, 0.7999]])\n"
     ]
    }
   ],
   "source": [
    "random_seed = 1\n",
    "torch.manual_seed(random_seed)\n",
    "print(torch.rand(1,3))\n",
    "\n",
    "print(torch.rand(1,3))"
   ]
  },
  {
   "cell_type": "code",
   "execution_count": 58,
   "metadata": {},
   "outputs": [
    {
     "name": "stdout",
     "output_type": "stream",
     "text": [
      "tensor([[0.7576, 0.2793, 0.4031]])\n",
      "tensor([[0.7576, 0.2793, 0.4031]])\n"
     ]
    }
   ],
   "source": [
    "random_seed = 1\n",
    "torch.manual_seed(random_seed)\n",
    "print(torch.rand(1,3))\n",
    "torch.manual_seed(random_seed)\n",
    "print(torch.rand(1,3))"
   ]
  },
  {
   "cell_type": "code",
   "execution_count": 47,
   "metadata": {},
   "outputs": [
    {
     "data": {
      "text/plain": [
       "tensor([[0.4550, 0.5725, 0.4980]])"
      ]
     },
     "execution_count": 47,
     "metadata": {},
     "output_type": "execute_result"
    }
   ],
   "source": [
    "torch.rand(1,3)"
   ]
  },
  {
   "cell_type": "code",
   "execution_count": 51,
   "metadata": {},
   "outputs": [
    {
     "data": {
      "text/plain": [
       "tensor([[0.7576, 0.2793, 0.4031]])"
      ]
     },
     "execution_count": 51,
     "metadata": {},
     "output_type": "execute_result"
    }
   ],
   "source": [
    "torch.manual_seed(random_seed)\n",
    "torch.rand(1,3)"
   ]
  },
  {
   "cell_type": "code",
   "execution_count": null,
   "metadata": {},
   "outputs": [],
   "source": []
  }
 ],
 "metadata": {
  "kernelspec": {
   "display_name": "virtual_environment_name",
   "language": "python",
   "name": "python3"
  },
  "language_info": {
   "codemirror_mode": {
    "name": "ipython",
    "version": 3
   },
   "file_extension": ".py",
   "mimetype": "text/x-python",
   "name": "python",
   "nbconvert_exporter": "python",
   "pygments_lexer": "ipython3",
   "version": "3.8.1"
  },
  "orig_nbformat": 4,
  "vscode": {
   "interpreter": {
    "hash": "1a377f81425412115e3f1878e4306705aed019f0a124c20f9ac8eef42d28dc35"
   }
  }
 },
 "nbformat": 4,
 "nbformat_minor": 2
}
